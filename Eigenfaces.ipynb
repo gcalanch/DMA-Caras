{
  "nbformat": 4,
  "nbformat_minor": 0,
  "metadata": {
    "colab": {
      "provenance": [],
      "include_colab_link": true
    },
    "kernelspec": {
      "name": "python3",
      "display_name": "Python 3"
    },
    "language_info": {
      "name": "python"
    }
  },
  "cells": [
    {
      "cell_type": "markdown",
      "metadata": {
        "id": "view-in-github",
        "colab_type": "text"
      },
      "source": [
        "<a href=\"https://colab.research.google.com/github/AgomferAustral/DMA-Caras/blob/main/Eigenfaces.ipynb\" target=\"_parent\"><img src=\"https://colab.research.google.com/assets/colab-badge.svg\" alt=\"Open In Colab\"/></a>"
      ]
    },
    {
      "source": [
        "# conexion al Google Drive\n",
        "from google.colab import drive\n",
        "drive.mount('/content/drive')"
      ],
      "cell_type": "code",
      "metadata": {
        "colab": {
          "base_uri": "https://localhost:8080/"
        },
        "id": "WYbCH9LO3Acj",
        "outputId": "6d59a6cb-70d2-4bf1-aeed-61d45d1fffea"
      },
      "execution_count": 1,
      "outputs": [
        {
          "output_type": "stream",
          "name": "stdout",
          "text": [
            "Mounted at /content/drive\n"
          ]
        }
      ]
    },
    {
      "cell_type": "code",
      "source": [
        "\n",
        "import cv2\n",
        "import math\n",
        "import numpy as np\n",
        "import os\n",
        "import pickle\n",
        "import random\n",
        "import sys\n",
        "\n",
        "\n",
        "import numpy as np\n",
        "from sklearn.manifold import Isomap\n",
        "\n",
        "\n",
        "from PIL import Image\n",
        "from sklearn.decomposition import PCA\n",
        "from sklearn.manifold import Isomap\n",
        "from sklearn.metrics.pairwise import euclidean_distances\n",
        "from sklearn.model_selection import train_test_split\n",
        "\n",
        "\n",
        "\n",
        "\n",
        "#!pip install --upgrade numpy\n",
        "#!pip install --upgrade scipy\n",
        "\n",
        "\n"
      ],
      "metadata": {
        "id": "SEqwIhmUhJU9"
      },
      "execution_count": 2,
      "outputs": []
    },
    {
      "cell_type": "code",
      "source": [],
      "metadata": {
        "collapsed": true,
        "id": "V3pZH_qBIKzB"
      },
      "execution_count": null,
      "outputs": []
    },
    {
      "cell_type": "markdown",
      "source": [
        "# Preprocesamos imagenes\n",
        "## La carpeta de origen se llama Eigenfaces\n"
      ],
      "metadata": {
        "id": "2gdS9KPNUk5u"
      }
    },
    {
      "cell_type": "code",
      "source": [],
      "metadata": {
        "id": "PpEJ6W0xUuvR"
      },
      "execution_count": null,
      "outputs": []
    },
    {
      "cell_type": "code",
      "source": [
        "\n",
        "face_cascade = cv2.CascadeClassifier(cv2.data.haarcascades + \"haarcascade_frontalface_default.xml\")\n",
        "\n",
        "\n",
        "\n",
        "\n",
        "# Definicion de ruta de conexion - Origen - Destino imagenes\n",
        "\n",
        "img_size=(60,60)\n",
        "\n",
        "ruta_entrada = '/content/drive/MyDrive/Eigenfaces'\n",
        "ruta_salida = f'/content/drive/MyDrive/Eigenfaces2-{img_size[0]}x{img_size[1]}'\n",
        "\n",
        "\n",
        "\n",
        "\n",
        "# prompt: verificar si la carpeta en \"ruta_salida\" existe. Si no existe, crearla\n",
        "\n",
        "if not os.path.exists(ruta_salida):\n",
        "  os.makedirs(ruta_salida)\n",
        "\n",
        "\n",
        "\n",
        "def procesar_archivos_en_carpetas(ruta_principal,ruta_final, imgsize):\n",
        "  \"\"\"Recorre las carpetas dentro de la ruta principal y procesa los archivos.\n",
        "\n",
        "  Args:\n",
        "    ruta_principal: La ruta de la carpeta principal.\n",
        "  \"\"\"\n",
        "\n",
        "  fraccion = 8\n",
        "\n",
        "\n",
        "  x_inicial = imgsize[0] // (fraccion - 2)\n",
        "  y_inicial = imgsize[1] // (fraccion - 2)\n",
        "  alto = imgsize[1]\n",
        "  ancho = imgsize[0]\n",
        "  multip = fraccion / (fraccion - 2)\n",
        "  img_size = (math.floor(ancho * multip) , math.floor(alto * multip))\n",
        "\n",
        "\n",
        "  print(f\"Ruta principal: {ruta_principal}\")\n",
        "  for carpeta_actual, _, archivos in os.walk(ruta_principal):\n",
        "    print(f\"Carpeta actual: {carpeta_actual}\")\n",
        "    for archivo in archivos:\n",
        "      print(f\"Archivo: {archivo}\")\n",
        "      ruta_completa = os.path.join(carpeta_actual, archivo)\n",
        "      try:\n",
        "\n",
        "            img = cv2.imread(ruta_completa, cv2.IMREAD_GRAYSCALE)\n",
        "\n",
        "            img = cv2.normalize(img, None, 0, 255, cv2.NORM_MINMAX)\n",
        "\n",
        "            if img is None:\n",
        "                print(f\"⚠️ No se pudo leer: {ruta_completa}\")\n",
        "                continue\n",
        "\n",
        "            # Detectar rostros\n",
        "            faces = face_cascade.detectMultiScale(img, scaleFactor=1.1, minNeighbors=10, minSize=(110, 110))\n",
        "\n",
        "            for i, (x, y, w, h) in enumerate(faces):\n",
        "                face = img[y:y+h, x:x+w]  # Recortar rostro\n",
        "                face_resized = cv2.resize(face, img_size)  # Redimensionar\n",
        "\n",
        "                face_cutted = face_resized[y_inicial:y_inicial+alto, x_inicial:x_inicial+ancho]\n",
        "\n",
        "                # Crear carpeta de salida manteniendo la estructura original\n",
        "                relative_path = os.path.relpath(carpeta_actual, ruta_entrada)\n",
        "                output_folder = os.path.join(ruta_salida, relative_path)\n",
        "                os.makedirs(output_folder, exist_ok=True)\n",
        "\n",
        "                # Guardar rostro procesado\n",
        "                output_path = os.path.join(output_folder, f\"{os.path.splitext(archivo)[0]}_face{i}.jpg\")\n",
        "                cv2.imwrite(output_path, face_cutted)\n",
        "                print(f\"✅ Guardado: {output_path}\")\n",
        "\n",
        "\n",
        "      except Exception as e:\n",
        "          print(f\"❌ Error procesando {ruta_completa}: {e}\")\n",
        "\n",
        "\n",
        "      except Exception as e:\n",
        "        print(f\"Error al procesar el archivo {ruta_completa}: {e}\")\n",
        "\n"
      ],
      "metadata": {
        "id": "kiu0dy57FGft"
      },
      "execution_count": null,
      "outputs": []
    },
    {
      "cell_type": "code",
      "source": [],
      "metadata": {
        "id": "ExWLIfqKU30c"
      },
      "execution_count": null,
      "outputs": []
    },
    {
      "cell_type": "code",
      "source": [
        "# Preprocesamos imagenes (escala de grises, recortes y escalado)\n",
        "print(\"Procesando archivos\")\n",
        "procesar_archivos_en_carpetas(ruta_entrada, ruta_salida, img_size)\n",
        "print(\"Proceso inicial terminado ...\")\n"
      ],
      "metadata": {
        "id": "XVN3lWaYGdlr"
      },
      "execution_count": null,
      "outputs": []
    },
    {
      "cell_type": "code",
      "source": [],
      "metadata": {
        "id": "hwRbyn4GU4Ti"
      },
      "execution_count": null,
      "outputs": []
    },
    {
      "cell_type": "markdown",
      "source": [
        "## el preprocesado queda en la carpeta Eigenfaces2-60x60\n",
        "\n",
        "### copie una version de esa carpeta a \"origen\" para usar a continuacion"
      ],
      "metadata": {
        "id": "EZEv4e6PVNUs"
      }
    },
    {
      "cell_type": "code",
      "source": [],
      "metadata": {
        "id": "XeRqyqOlU4PC"
      },
      "execution_count": null,
      "outputs": []
    },
    {
      "cell_type": "code",
      "source": [
        "# origen de datos preprocesados\n",
        "ruta_origen = \"/content/drive/MyDrive/origen\""
      ],
      "metadata": {
        "id": "JX1faTG4GdZJ"
      },
      "execution_count": 3,
      "outputs": []
    },
    {
      "cell_type": "code",
      "source": [],
      "metadata": {
        "id": "zRZ1KpaIU3q1"
      },
      "execution_count": null,
      "outputs": []
    },
    {
      "cell_type": "code",
      "source": [
        "# Dividimos conjunto de datos\n",
        "\n",
        "def dividir_datos(ruta_origen, proporcion_entrenamiento=0.75):\n",
        "    \"\"\"\n",
        "    Divide las imágenes en conjuntos de entrenamiento y prueba,\n",
        "    y guarda las etiquetas usando un diccionario de listas.\n",
        "\n",
        "    Args:\n",
        "        ruta_origen (str): Ruta al directorio raíz con las subcarpetas de imágenes.\n",
        "        proporcion_entrenamiento (float): Proporción de imágenes para entrenamiento.\n",
        "\n",
        "    Returns:\n",
        "        dict: Diccionario con las rutas de las imágenes y etiquetas, organizadas en entrenamiento y prueba.\n",
        "    \"\"\"\n",
        "\n",
        "    conjuntos_datos = {\n",
        "        \"entrenamiento\": {\"imagenes\": [], \"etiquetas\": []},\n",
        "        \"prueba\": {\"imagenes\": [], \"etiquetas\": []}\n",
        "    }\n",
        "\n",
        "    for persona in os.listdir(ruta_origen):\n",
        "        ruta_persona = os.path.join(ruta_origen, persona)\n",
        "        if os.path.isdir(ruta_persona):\n",
        "            imagenes = [os.path.join(ruta_persona, img) for img in os.listdir(ruta_persona) if img.lower().endswith(('.png', '.jpg', '.jpeg'))]\n",
        "            entrenamiento, prueba = train_test_split(imagenes, train_size=proporcion_entrenamiento, random_state=73)  # Semilla para reproducibilidad\n",
        "\n",
        "            # Guardar datos de entrenamiento\n",
        "            conjuntos_datos[\"entrenamiento\"][\"imagenes\"].extend(entrenamiento)\n",
        "            conjuntos_datos[\"entrenamiento\"][\"etiquetas\"].extend([persona] * len(entrenamiento))\n",
        "\n",
        "            # Guardar datos de prueba\n",
        "            conjuntos_datos[\"prueba\"][\"imagenes\"].extend(prueba)\n",
        "            conjuntos_datos[\"prueba\"][\"etiquetas\"].extend([persona] * len(prueba))\n",
        "\n",
        "    return conjuntos_datos\n",
        "\n"
      ],
      "metadata": {
        "id": "o--uL8m2FGjM"
      },
      "execution_count": 4,
      "outputs": []
    },
    {
      "cell_type": "code",
      "source": [],
      "metadata": {
        "id": "7n3FgIU0U3fI"
      },
      "execution_count": null,
      "outputs": []
    },
    {
      "cell_type": "code",
      "source": [
        "# En la variable \"ruta_origen\" se encuentran las imagenes preprocesadas para enternamiento\n",
        "datos_divididos = dividir_datos(ruta_origen)\n",
        "\n",
        "\n",
        "# Acceder a los datos\n",
        "lista_nombres_imagenes_entrenamiento = datos_divididos[\"entrenamiento\"][\"imagenes\"]\n",
        "lista_etiquetas_entrenamiento = datos_divididos[\"entrenamiento\"][\"etiquetas\"]\n",
        "lista_nombres_imagenes_prueba = datos_divididos[\"prueba\"][\"imagenes\"]\n",
        "lista_etiquetas_prueba = datos_divididos[\"prueba\"][\"etiquetas\"]\n",
        "\n",
        "# Estructura de datos_divididos:\n",
        "# {\n",
        "#     \"entrenamiento\": {\n",
        "#         \"imagenes\": [\"ruta/a/imagen1.jpg\", \"ruta/a/imagen2.png\", ...],\n",
        "#         \"etiquetas\": [\"persona1\", \"persona1\", ...]\n",
        "#     },\n",
        "#     \"prueba\": {\n",
        "#         \"imagenes\": [\"ruta/a/imagen5.jpg\", \"ruta/a/imagen6.png\", ...],\n",
        "#         \"etiquetas\": [\"persona2\", \"persona2\", ...]\n",
        "#     }\n",
        "# }"
      ],
      "metadata": {
        "id": "phl4KxDlK9MA"
      },
      "execution_count": 5,
      "outputs": []
    },
    {
      "cell_type": "markdown",
      "source": [],
      "metadata": {
        "id": "m_10gPpjUwM3"
      }
    },
    {
      "cell_type": "code",
      "source": [
        "lista_nombres_imagenes_entrenamiento"
      ],
      "metadata": {
        "id": "YgieoLIbKXKe"
      },
      "execution_count": null,
      "outputs": []
    },
    {
      "cell_type": "code",
      "source": [
        "lista_etiquetas_entrenamiento"
      ],
      "metadata": {
        "id": "FJGPGZfffGAs"
      },
      "execution_count": null,
      "outputs": []
    },
    {
      "cell_type": "code",
      "source": [],
      "metadata": {
        "id": "CUcdelQFfF2y"
      },
      "execution_count": null,
      "outputs": []
    },
    {
      "cell_type": "code",
      "source": [],
      "metadata": {
        "id": "oOat56oCfFq1"
      },
      "execution_count": null,
      "outputs": []
    },
    {
      "cell_type": "code",
      "source": [],
      "metadata": {
        "id": "9P1vAjTiKXNY"
      },
      "execution_count": null,
      "outputs": []
    },
    {
      "cell_type": "markdown",
      "source": [
        "# ISOMAP"
      ],
      "metadata": {
        "id": "Tknf-Hhkebt4"
      }
    },
    {
      "cell_type": "code",
      "source": [
        "def precalcular_isomap(datos_entrenamiento, n_componentes_isomap=10, n_vecinos_isomap=5):\n",
        "    \"\"\"\n",
        "    Precalcula las ubicaciones de Isomap para las imágenes de entrenamiento.\n",
        "\n",
        "    Args:\n",
        "        datos_entrenamiento (dict): Diccionario con rutas de imágenes y etiquetas de entrenamiento.\n",
        "        n_componentes_isomap (int): Número de componentes para Isomap.\n",
        "        n_vecinos_isomap (int): Número de vecinos para Isomap.\n",
        "\n",
        "    Returns:\n",
        "        tuple: (ubicaciones_isomap, etiquetas_entrenamiento)\n",
        "    \"\"\"\n",
        "\n",
        "    # Cargar imágenes de entrenamiento\n",
        "    imagenes_entrenamiento = []\n",
        "    for ruta in datos_entrenamiento[\"imagenes\"]:\n",
        "        img = Image.open(ruta).convert('L')\n",
        "        imagenes_entrenamiento.append(np.array(img).flatten())\n",
        "    imagenes_entrenamiento = np.array(imagenes_entrenamiento)\n",
        "\n",
        "    # Isomap\n",
        "    isomap = Isomap(n_components=n_componentes_isomap, n_neighbors=n_vecinos_isomap)\n",
        "    ubicaciones_isomap = isomap.fit_transform(imagenes_entrenamiento)\n",
        "\n",
        "    return ubicaciones_isomap, datos_entrenamiento[\"etiquetas\"], isomap\n"
      ],
      "metadata": {
        "id": "gJ6L3wmgYqoK"
      },
      "execution_count": 26,
      "outputs": []
    },
    {
      "cell_type": "code",
      "source": [],
      "metadata": {
        "id": "is6fxzGaKXQn"
      },
      "execution_count": null,
      "outputs": []
    },
    {
      "cell_type": "code",
      "source": [],
      "metadata": {
        "id": "ewAq73H4KXTQ"
      },
      "execution_count": null,
      "outputs": []
    },
    {
      "cell_type": "code",
      "source": [
        "# Seteamos variable para manejo mas simple, incluye etiquetas\n",
        "datos_entrenamiento = datos_divididos[\"entrenamiento\"]"
      ],
      "metadata": {
        "id": "v21S8MSWKXWF"
      },
      "execution_count": 9,
      "outputs": []
    },
    {
      "cell_type": "code",
      "source": [],
      "metadata": {
        "id": "OErGpwanegOB"
      },
      "execution_count": null,
      "outputs": []
    },
    {
      "cell_type": "code",
      "source": [],
      "metadata": {
        "id": "Uzpi6PRmegKh"
      },
      "execution_count": null,
      "outputs": []
    },
    {
      "cell_type": "code",
      "source": [
        "# Precalculamos datos\n",
        "ubicaciones_isomap, etiquetas_entrenamiento, isomap_model = precalcular_isomap(datos_entrenamiento)"
      ],
      "metadata": {
        "id": "0ylx7aSEeyrT"
      },
      "execution_count": 27,
      "outputs": []
    },
    {
      "cell_type": "code",
      "source": [],
      "metadata": {
        "id": "eDcbezuNegHW"
      },
      "execution_count": null,
      "outputs": []
    },
    {
      "cell_type": "code",
      "source": [],
      "metadata": {
        "id": "Eu0poH2HegEE"
      },
      "execution_count": null,
      "outputs": []
    },
    {
      "cell_type": "code",
      "source": [
        "# Guardar datos precalculados\n",
        "datos_guardar = {\n",
        "    \"ubicaciones_isomap\": ubicaciones_isomap,\n",
        "    \"etiquetas_entrenamiento\": etiquetas_entrenamiento,\n",
        "    \"n_componentes_isomap\": 10,  # Guardar hiperparámetros\n",
        "    \"n_vecinos_isomap\": 5,\n",
        "    \"isomap_model\": isomap_model  # Store the fitted Isomap model\n",
        "}"
      ],
      "metadata": {
        "id": "7adQbFlee2VA"
      },
      "execution_count": 28,
      "outputs": []
    },
    {
      "cell_type": "code",
      "source": [
        "# Archivo parametros modelo\n",
        "\n",
        "archivo_params = \"/content/drive/MyDrive/datos_isomap.pkl\"\n",
        "\n",
        "with open(archivo_params, \"wb\") as f:\n",
        "    pickle.dump(datos_guardar, f)"
      ],
      "metadata": {
        "id": "TmGe9ge6bHky"
      },
      "execution_count": 29,
      "outputs": []
    },
    {
      "cell_type": "code",
      "source": [],
      "metadata": {
        "id": "ZoYP5GFjef9M"
      },
      "execution_count": null,
      "outputs": []
    },
    {
      "cell_type": "code",
      "source": [],
      "metadata": {
        "id": "Fim2B8kzj4ky"
      },
      "execution_count": null,
      "outputs": []
    },
    {
      "cell_type": "code",
      "source": [
        "# Version nueva\n",
        "def reconocer_cara_produccion(imagen_prueba, ruta_datos_precalculados=archivo_params):\n",
        "    \"\"\"\n",
        "    Reconoce una cara usando datos precalculados de Isomap.\n",
        "\n",
        "    Args:\n",
        "        imagen_prueba (str): Ruta a la imagen de prueba.\n",
        "        ruta_datos_precalculados (str): Ruta al archivo con los datos precalculados.\n",
        "\n",
        "    Returns:\n",
        "        list: Lista de las N etiquetas más cercanas y sus distancias.\n",
        "    \"\"\"\n",
        "\n",
        "    # Cargar datos precalculados\n",
        "    with open(ruta_datos_precalculados, \"rb\") as f:\n",
        "        datos_cargados = pickle.load(f)\n",
        "\n",
        "    ubicaciones_isomap = datos_cargados[\"ubicaciones_isomap\"]\n",
        "    etiquetas_entrenamiento = datos_cargados[\"etiquetas_entrenamiento\"]\n",
        "    # Get the pre-trained Isomap model\n",
        "    isomap = datos_cargados[\"isomap_model\"]\n",
        "\n",
        "    # Cargar y mapear la imagen de prueba\n",
        "    imagen_prueba_cargada = np.array(Image.open(imagen_prueba).convert('L')).flatten()\n",
        "\n",
        "    # Transform the test image using the pre-trained model\n",
        "    imagen_prueba_isomap = isomap.transform([imagen_prueba_cargada])\n",
        "\n",
        "    # Calcular distancias y ranking\n",
        "    distancias = euclidean_distances(imagen_prueba_isomap, ubicaciones_isomap)[0]\n",
        "    indices_ordenados = np.argsort(distancias)[:3]\n",
        "    ranking = [(etiquetas_entrenamiento[i], distancias[i]) for i in indices_ordenados]\n",
        "\n",
        "    return ranking"
      ],
      "metadata": {
        "id": "daaRK8wDj4g_"
      },
      "execution_count": 37,
      "outputs": []
    },
    {
      "cell_type": "code",
      "source": [],
      "metadata": {
        "id": "DH4xDE-ffJxc"
      },
      "execution_count": null,
      "outputs": []
    },
    {
      "cell_type": "code",
      "source": [
        "# Ejemplo de uso en producción\n",
        "imagen_prueba = datos_divididos[\"prueba\"][\"imagenes\"][50]\n",
        "print(datos_divididos[\"prueba\"][\"etiquetas\"][50])\n",
        "ranking = reconocer_cara_produccion(imagen_prueba)\n",
        "print(ranking)"
      ],
      "metadata": {
        "colab": {
          "base_uri": "https://localhost:8080/"
        },
        "id": "H90eVCpgfJuE",
        "outputId": "e7071b8f-b649-4f74-861c-af8812c02cf7"
      },
      "execution_count": 42,
      "outputs": [
        {
          "output_type": "stream",
          "name": "stdout",
          "text": [
            "Mauricio\n",
            "[('Mauricio', np.float64(871.2282202464642)), ('Mauricio', np.float64(2400.977975380197)), ('Mauricio', np.float64(2862.2127745397192)), ('Mauricio', np.float64(2862.212774539722)), ('Mauricio', np.float64(4130.367088787949)), ('Mauricio', np.float64(4668.2972827933045)), ('Mauricio', np.float64(6177.613299640747)), ('José', np.float64(6434.254399807999)), ('Mauricio', np.float64(6573.955028137777)), ('José', np.float64(6690.849825896741)), ('José', np.float64(7847.270632749893)), ('José', np.float64(7995.576404384289)), ('Guadalupe', np.float64(8180.197631725395))]\n"
          ]
        }
      ]
    },
    {
      "cell_type": "code",
      "source": [],
      "metadata": {
        "id": "W4TyFhC-fJnX"
      },
      "execution_count": null,
      "outputs": []
    },
    {
      "cell_type": "code",
      "source": [],
      "metadata": {
        "id": "VrVGQgqSoQM1"
      },
      "execution_count": null,
      "outputs": []
    },
    {
      "cell_type": "code",
      "source": [],
      "metadata": {
        "id": "3qapq318oQJX"
      },
      "execution_count": null,
      "outputs": []
    },
    {
      "cell_type": "code",
      "source": [
        "def reconocer_cara_produccion2(imagen_prueba, ruta_datos_precalculados=archivo_params):\n",
        "    \"\"\"\n",
        "    Reconoce una cara usando datos precalculados de Isomap.\n",
        "\n",
        "    Args:\n",
        "        imagen_prueba (str): Ruta a la imagen de prueba.\n",
        "        ruta_datos_precalculados (str): Ruta al archivo con los datos precalculados.\n",
        "\n",
        "    Returns:\n",
        "        list: Lista de las 3 etiquetas más cercanas y distintas, con sus distancias.\n",
        "    \"\"\"\n",
        "\n",
        "    # Cargar datos precalculados (same as before)\n",
        "    with open(ruta_datos_precalculados, \"rb\") as f:\n",
        "        datos_cargados = pickle.load(f)\n",
        "\n",
        "    ubicaciones_isomap = datos_cargados[\"ubicaciones_isomap\"]\n",
        "    etiquetas_entrenamiento = datos_cargados[\"etiquetas_entrenamiento\"]\n",
        "    isomap = datos_cargados[\"isomap_model\"]\n",
        "\n",
        "    # Cargar y mapear la imagen de prueba (same as before)\n",
        "    imagen_prueba_cargada = np.array(Image.open(imagen_prueba).convert('L')).flatten()\n",
        "    imagen_prueba_isomap = isomap.transform([imagen_prueba_cargada])\n",
        "\n",
        "    # Calcular distancias (same as before)\n",
        "    distancias = euclidean_distances(imagen_prueba_isomap, ubicaciones_isomap)[0]\n",
        "    indices_ordenados = np.argsort(distancias)\n",
        "\n",
        "    # Obtener las 3 etiquetas distintas más cercanas\n",
        "    ranking_01 = []\n",
        "    etiquetas_encontradas = set()  # Use a set to track distinct labels\n",
        "    for i in indices_ordenados:\n",
        "        etiqueta = etiquetas_entrenamiento[i]\n",
        "        if etiqueta not in etiquetas_encontradas:\n",
        "            ranking_01.append((etiqueta, distancias[i]))\n",
        "            etiquetas_encontradas.add(etiqueta)\n",
        "            if len(ranking_01) == 3:\n",
        "                break\n",
        "\n",
        "    return ranking"
      ],
      "metadata": {
        "id": "XYKFmZyLoQFx"
      },
      "execution_count": 43,
      "outputs": []
    },
    {
      "cell_type": "code",
      "source": [
        "print(ranking[0][0])"
      ],
      "metadata": {
        "colab": {
          "base_uri": "https://localhost:8080/"
        },
        "id": "5vbxJoKpoQBi",
        "outputId": "ec202417-34ba-4a11-9bc2-edc34aa835e7"
      },
      "execution_count": 54,
      "outputs": [
        {
          "output_type": "stream",
          "name": "stdout",
          "text": [
            "Noelia M\n"
          ]
        }
      ]
    },
    {
      "cell_type": "code",
      "source": [
        "# Ejemplo de uso en producción\n",
        "imagen_prueba = datos_divididos[\"prueba\"][\"imagenes\"][67]\n",
        "print(f'Etiqueta: {datos_divididos[\"prueba\"][\"etiquetas\"][67]}')\n",
        "ranking = reconocer_cara_produccion2(imagen_prueba)\n",
        "for i in range(len(ranking)):\n",
        "  print(f\"Candidato {i+1}: {ranking[i][0]} - Indice: {ranking[i][1]} \")"
      ],
      "metadata": {
        "colab": {
          "base_uri": "https://localhost:8080/"
        },
        "outputId": "f5afb967-43a2-48ed-fed7-65ca46d8ea44",
        "id": "wiiyfo_soWdZ"
      },
      "execution_count": 61,
      "outputs": [
        {
          "output_type": "stream",
          "name": "stdout",
          "text": [
            "Etiqueta: Cristian\n",
            "Candidato 1: Cristian - Indice: 1715.9601663120566 \n",
            "Candidato 2: Alejandro - Indice: 3359.0499217868232 \n",
            "Candidato 3: Daniel - Indice: 4354.524365185596 \n"
          ]
        }
      ]
    },
    {
      "cell_type": "code",
      "source": [],
      "metadata": {
        "colab": {
          "base_uri": "https://localhost:8080/"
        },
        "id": "MaFAnU_EfJjS",
        "outputId": "9c321ed1-4016-4744-91bd-e6630030c362"
      },
      "execution_count": 58,
      "outputs": [
        {
          "output_type": "execute_result",
          "data": {
            "text/plain": [
              "list"
            ]
          },
          "metadata": {},
          "execution_count": 58
        }
      ]
    },
    {
      "cell_type": "code",
      "source": [],
      "metadata": {
        "id": "Q46uwViyqYps"
      },
      "execution_count": null,
      "outputs": []
    },
    {
      "cell_type": "code",
      "source": [],
      "metadata": {
        "id": "iYVpU0eQqYk6"
      },
      "execution_count": null,
      "outputs": []
    },
    {
      "cell_type": "code",
      "source": [],
      "metadata": {
        "id": "xqC-zpbTqYhg"
      },
      "execution_count": null,
      "outputs": []
    },
    {
      "cell_type": "markdown",
      "source": [],
      "metadata": {
        "id": "iRVnN4HErQUi"
      }
    }
  ]
}